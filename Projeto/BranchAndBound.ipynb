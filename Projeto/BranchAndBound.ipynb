{
 "cells": [
  {
   "attachments": {},
   "cell_type": "markdown",
   "metadata": {},
   "source": [
    "## Módulos "
   ]
  },
  {
   "cell_type": "code",
   "execution_count": 190,
   "metadata": {},
   "outputs": [],
   "source": [
    "#Módulo de Caixa preta --> Algoritmo Simplex\n",
    "\n",
    "from mip import *\n",
    "\n",
    "\n",
    "\n",
    "def save(model, filename):\n",
    "    \n",
    "    # Função para salvar o modelo em um arquivo .lp e imprimir na tela\n",
    "    \n",
    "    model.write(filename) \n",
    "    with open(filename, \"r\") as f: \n",
    "        print(f.read())\n",
    "\n",
    "\n",
    "\n",
    "def solve(model):\n",
    "    \n",
    "    # Função para resolver o modelo e imprimir na tela\n",
    "    \n",
    "    status = model.optimize()\n",
    "\n",
    "    print(\"Status = \", status)\n",
    "    print(f\"Solution value  = {model.objective_value:.2f}\\n\")\n",
    "\n",
    "    print(\"Solution:\")\n",
    "    for v in model.vars:\n",
    "        print(f\"{v.name} = {v.x:.2f}\")\n",
    "\n",
    "\n",
    "def CreateModel(QtdVar,QtdRes,z,restricoes):\n",
    "    \n",
    "    # Função para criar o modelo usando dados retirados da instância\n",
    "    # Recebe strings da função \n",
    "    # Retorna o modelo criado\n",
    "    print(\"Criando modelo...\")\n",
    "    print(f\"Qtd de Variaveis: {QtdVar}, Qtd de Restricoes: {QtdRes}\")    \n",
    "    \n",
    "    \n",
    "    model = Model(sense=MAXIMIZE, solver_name=CBC)    \n",
    "    x = {i: model.add_var(var_type=BINARY, name=f'x_{i}', lb=0.0) for i in range(QtdVar)}    \n",
    "    \n",
    "    model.objective = xsum(z[i]*x[i] for i in range(QtdVar)) # Max(z1*x1 + z2*x2 + ... + zn*xn))    \n",
    "    \n",
    "    # S.A:\n",
    "    for j in range(QtdRes):        \n",
    "       model += xsum(restricoes[j][i]*x[i] for i in range(QtdVar)) <= restricoes[j][QtdVar]    \n",
    "       \n",
    "    \n",
    "    \n",
    "    save(model, \"modelo.lp\")\n",
    "    #solve(model)\n",
    "    \n",
    "    \n",
    "    \n",
    "    \n",
    "\n",
    "    \n",
    "\n",
    "        \n"
   ]
  },
  {
   "cell_type": "code",
   "execution_count": 188,
   "metadata": {},
   "outputs": [],
   "source": [
    "#Modulos para leitura de arquivos\n",
    "\n",
    "def Info(file_name):    \n",
    "    \n",
    "    pass\n",
    "\n",
    "def read_file(file_name):\n",
    "    \n",
    "    #Funçao destinada a ler arquivo das instancias\n",
    "    #recebe como parametro o nome do arquivo\n",
    "    #retorna a quantidade de variaveis, quantidade de restriçoes, vetor de custos e matriz de restriçoes\n",
    "    \n",
    "    file = open(file_name, 'r')\n",
    "    lines = file.readlines()\n",
    "    file.close()\n",
    "    \n",
    "    # Separa as informações e converte para int\n",
    "    QtdVar,QtdRes = [int(i) for i in lines[0].strip().split(' ')]       \n",
    "    z = [int(i) for i in lines[1].strip().split(' ')]\n",
    "    restricoes = [[int(j) for j in i.strip().split(' ')] for i in lines[2:]]\n",
    "    \n",
    "    \n",
    "        \n",
    "    \n",
    "    CreateModel(QtdVar,QtdRes,z,restricoes)\n"
   ]
  },
  {
   "attachments": {},
   "cell_type": "markdown",
   "metadata": {},
   "source": [
    "## Testando Instancias"
   ]
  },
  {
   "cell_type": "code",
   "execution_count": 199,
   "metadata": {},
   "outputs": [
    {
     "name": "stdout",
     "output_type": "stream",
     "text": [
      "Criando modelo...\n",
      "Qtd de Variaveis: 7, Qtd de Restricoes: 11\n",
      "\\Problem name: \n",
      "\n",
      "Minimize\n",
      "OBJROW: -2 x_0 -10 x_1 -8 x_2 -7 x_3 -10 x_4 -10 x_5 -6 x_6\n",
      "Subject To\n",
      "constr(0):  5 x_0 + 7 x_1 + 8 x_2 + x_3 + 7 x_4 + 5 x_5 + 6 x_6 <= 20\n",
      "constr(1):  x_0 + 6 x_1 + 4 x_2 + 9 x_3 + 10 x_4 + 6 x_5 + 10 x_6 <= 30\n",
      "constr(2):  4 x_0 + 4 x_1 + 4 x_2 + x_3 + 5 x_4 + 5 x_5 + 10 x_6 <= 40\n",
      "constr(3):  3 x_0 + 10 x_1 + 8 x_2 + x_3 + 3 x_4 + 3 x_5 + 8 x_6 <= 30\n",
      "constr(4):  10 x_0 + 8 x_1 + 9 x_2 + 9 x_3 + 7 x_4 + 6 x_5 + 10 x_6 <= 20\n",
      "constr(5):  6 x_0 + 6 x_1 + 3 x_2 + 6 x_3 + 3 x_4 + 7 x_5 + 2 x_6 <= 80\n",
      "constr(6):  7 x_0 + 10 x_1 + 7 x_2 + 8 x_3 + 7 x_4 + 8 x_5 + 7 x_6 <= 100\n",
      "constr(7):  9 x_0 + 8 x_1 + x_2 + x_3 + 8 x_4 + 10 x_5 + 2 x_6 <= 90\n",
      "constr(8):  x_0 + 5 x_1 + 3 x_2 + 10 x_3 + 2 x_4 + 4 x_5 + 9 x_6 <= 70\n",
      "constr(9):  9 x_0 + 6 x_1 + x_2 + 4 x_3 + 7 x_4 + 5 x_5 + 10 x_6 <= 60\n",
      "constr(10):  5 x_0 + 7 x_1 + 4 x_2 + 4 x_3 + 3 x_4 + 4 x_5 + 10 x_6 <= 40\n",
      "Bounds\n",
      " 0 <= x_0 <= 1\n",
      " 0 <= x_1 <= 1\n",
      " 0 <= x_2 <= 1\n",
      " 0 <= x_3 <= 1\n",
      " 0 <= x_4 <= 1\n",
      " 0 <= x_5 <= 1\n",
      " 0 <= x_6 <= 1\n",
      "Integers\n",
      "x_0 x_1 x_2 x_3 x_4 x_5 x_6 \n",
      "End\n",
      "\n"
     ]
    }
   ],
   "source": [
    "read_file('I1.txt')"
   ]
  }
 ],
 "metadata": {
  "kernelspec": {
   "display_name": "Python 3",
   "language": "python",
   "name": "python3"
  },
  "language_info": {
   "codemirror_mode": {
    "name": "ipython",
    "version": 3
   },
   "file_extension": ".py",
   "mimetype": "text/x-python",
   "name": "python",
   "nbconvert_exporter": "python",
   "pygments_lexer": "ipython3",
   "version": "3.9.7"
  },
  "orig_nbformat": 4,
  "vscode": {
   "interpreter": {
    "hash": "c7eff589202d1b081309a21c1fcab32e7bd6b92ee77a4b4c9e08aff7652052eb"
   }
  }
 },
 "nbformat": 4,
 "nbformat_minor": 2
}
