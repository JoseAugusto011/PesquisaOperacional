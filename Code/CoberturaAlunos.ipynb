{
 "cells": [
  {
   "cell_type": "code",
   "execution_count": 2,
   "metadata": {},
   "outputs": [],
   "source": [
    "# instalação e importação do pacote mip\n",
    "\n",
    "from mip import *\n",
    "\n",
    "# funcões usadas posteriormente:\n",
    "\n",
    "# resolve o modelo e mostra os valores das variáveis\n",
    "def solve(model):\n",
    "  status = model.optimize()\n",
    "\n",
    "  print(\"Status = \", status)\n",
    "  print(f\"Solution value  = {model.objective_value:.2f}\\n\")\n",
    "\n",
    "  print(\"Solution:\")\n",
    "  for v in model.vars:\n",
    "      print(f\"{v.name} = {v.x:.2f}\")\n",
    "\n",
    "\n",
    "# salva modelo em arquivo lp, e mostra o conteúdo\n",
    "def save(model, filename):\n",
    "  model.write(filename) # salva modelo em arquivo\n",
    "  with open(filename, \"r\") as f: # lê e exibe conteúdo do arquivo\n",
    "    print(f.read())"
   ]
  },
  {
   "cell_type": "code",
   "execution_count": 6,
   "metadata": {},
   "outputs": [
    {
     "name": "stdout",
     "output_type": "stream",
     "text": [
      "\\Problem name: \n",
      "\n",
      "Minimize\n",
      "OBJROW: - y_1 - y_2 - y_3 - y_4 - y_5 - y_6 - y_7 - y_8 - y_9 - y_10\n",
      "Subject To\n",
      "constr(0):  x_1 + x_2 + x_3 + x_4 <= 2\n",
      "constr(1):  x_1 + x_2 + x_3 + x_4 - y_1 >= -0\n",
      "constr(2):  x_1 + x_2 + x_3 + x_4 - y_2 >= -0\n",
      "constr(3):  x_1 + x_2 + x_3 + x_4 - y_3 >= -0\n",
      "constr(4):  x_1 + x_2 + x_3 + x_4 - y_4 >= -0\n",
      "constr(5):  x_1 + x_2 + x_3 + x_4 - y_5 >= -0\n",
      "constr(6):  x_1 + x_2 + x_3 + x_4 - y_6 >= -0\n",
      "constr(7):  x_1 + x_2 + x_3 + x_4 - y_7 >= -0\n",
      "constr(8):  x_1 + x_2 + x_3 + x_4 - y_8 >= -0\n",
      "constr(9):  x_1 + x_2 + x_3 + x_4 - y_9 >= -0\n",
      "constr(10):  x_1 + x_2 + x_3 + x_4 - y_10 >= -0\n",
      "Bounds\n",
      " 0 <= x_1 <= 1\n",
      " 0 <= x_2 <= 1\n",
      " 0 <= x_3 <= 1\n",
      " 0 <= x_4 <= 1\n",
      " 0 <= y_1 <= 1\n",
      " 0 <= y_2 <= 1\n",
      " 0 <= y_3 <= 1\n",
      " 0 <= y_4 <= 1\n",
      " 0 <= y_5 <= 1\n",
      " 0 <= y_6 <= 1\n",
      " 0 <= y_7 <= 1\n",
      " 0 <= y_8 <= 1\n",
      " 0 <= y_9 <= 1\n",
      " 0 <= y_10 <= 1\n",
      "Integers\n",
      "x_1 x_2 x_3 x_4 y_1 y_2 y_3 y_4 y_5 y_6 \n",
      "y_7 y_8 y_9 y_10 \n",
      "End\n",
      "\n"
     ]
    }
   ],
   "source": [
    "model =  Model(sense=MAXIMIZE, solver_name=CBC)\n",
    "\n",
    "x = {i: model.add_var(var_type=BINARY, name=f'x_{i}', lb=0.0) for i in range(1,5)} # se o local x for coberto 1, caso contrário 0\n",
    "y = {j: model.add_var(var_type=BINARY, name=f'y_{j}', lb=0.0) for j in range(1,11)} # se o aluno y for coberto 1, caso contrário 0\n",
    "\n",
    "\n",
    "model.objective = (y[1]+y[2]+y[3]+y[4]+y[5]+y[6]+y[7]+y[8]+y[9]+y[10])\n",
    "\n",
    "model += x[1] + x[2] + x[3] + x[4] <= 2 # no máximo 2 locais podem ser cobertos\n",
    "\n",
    "l = [1,2,3,4]\n",
    "c = [1,2,3,4,5,6,7,8,9,10]\n",
    "\n",
    "raio = 1\n",
    "demanda = [1,1,1,1,1,1,1,1,1,1]\n",
    "\n",
    "\n",
    "#y[j] <= somatorio de xi (i pertence a l)  se a distancia entre o aluno j e o local i for menor que o raio , para todo j pertencente a c\n",
    "\n",
    "for j in c:\n",
    "        if (demanda[j-1] <= raio):\n",
    "            model += sum (x[i] for i in l if demanda[i] <= raio) >= y[j]\n",
    "\n",
    "save(model, \"model.lp\")"
   ]
  }
 ],
 "metadata": {
  "kernelspec": {
   "display_name": "Python 3",
   "language": "python",
   "name": "python3"
  },
  "language_info": {
   "codemirror_mode": {
    "name": "ipython",
    "version": 3
   },
   "file_extension": ".py",
   "mimetype": "text/x-python",
   "name": "python",
   "nbconvert_exporter": "python",
   "pygments_lexer": "ipython3",
   "version": "3.9.7 (tags/v3.9.7:1016ef3, Aug 30 2021, 20:19:38) [MSC v.1929 64 bit (AMD64)]"
  },
  "orig_nbformat": 4,
  "vscode": {
   "interpreter": {
    "hash": "c7eff589202d1b081309a21c1fcab32e7bd6b92ee77a4b4c9e08aff7652052eb"
   }
  }
 },
 "nbformat": 4,
 "nbformat_minor": 2
}
