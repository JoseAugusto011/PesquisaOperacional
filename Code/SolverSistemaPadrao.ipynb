{
 "cells": [
  {
   "cell_type": "code",
   "execution_count": 29,
   "metadata": {},
   "outputs": [],
   "source": [
    "import numpy as np\n",
    "\n"
   ]
  },
  {
   "cell_type": "code",
   "execution_count": 30,
   "metadata": {},
   "outputs": [],
   "source": [
    "def fatorial(n):\n",
    "    if n == 0:\n",
    "        return 1\n",
    "    else:\n",
    "        return n * fatorial(n - 1)\n",
    "\n",
    "def Combinacao(n, k):\n",
    "    return fatorial(n) / (fatorial(n - k) * fatorial(k))\n",
    "\n",
    "def Combination(arr, n, r):\n",
    "    data = [0] * r\n",
    "    return combinationUtil(arr, data, 0, n - 1, 0, r)\n",
    "\n",
    "def combinationUtil(arr, data, start, end, index, r):\n",
    "    result = []\n",
    "    if index == r:\n",
    "        result.append(data[:r])\n",
    "        return result\n",
    "    i = start\n",
    "    while i <= end and end - i + 1 >= r - index:\n",
    "        data[index] = arr[i]\n",
    "        result += combinationUtil(arr, data, i + 1, end, index + 1, r)\n",
    "        i += 1\n",
    "    return result\n",
    "\n",
    "def MatrizAumentada(A, b):\n",
    "    return np.hstack((A, b.reshape((-1, 1))))\n",
    "\n",
    "def GaussianElimination(A):  # matriz aumentada\n",
    "    m, n = A.shape\n",
    "    A = np.array(A, dtype=np.float64)\n",
    "    for k in range(n - 1):\n",
    "        j = k\n",
    "        while j < n:\n",
    "            if A[k, j] != 0:\n",
    "                break\n",
    "            else:\n",
    "                for r in range(k + 1, m):\n",
    "                    if A[r, j] != 0:\n",
    "                        A[k, :], A[r, :] = A[r, :].copy(), A[k, :].copy()\n",
    "                        break\n",
    "                else:\n",
    "                    j += 1\n",
    "        for i in range(k + 1, m):\n",
    "            A[i] -= (A[i, j] / A[k, j]) * A[k]\n",
    "    return A\n",
    "\n",
    "def SistemSolver(A):\n",
    "    n = A.shape[0]\n",
    "    x = np.zeros(n)\n",
    "    for i in range(n - 1, -1, -1):\n",
    "        x[i] = (A[i, -1] - np.dot(A[i, i + 1:n], x[i + 1:n])) / A[i, i]\n",
    "    return x\n",
    "\n",
    "def Z(p, v, num_vars): #Erro\n",
    "    x = [0] * num_vars\n",
    "    z = []\n",
    "    for k in range(len(p)):\n",
    "        z.append(sum(x[pk - 1] * vk for pk, vk in zip(p[k], v[k])))\n",
    "    return max(z), z.index(max(z))\n",
    "\n"
   ]
  },
  {
   "cell_type": "code",
   "execution_count": 41,
   "metadata": {},
   "outputs": [
    {
     "name": "stdout",
     "output_type": "stream",
     "text": [
      "0\n",
      "0\n",
      "0\n",
      "0\n",
      "0\n"
     ]
    },
    {
     "name": "stderr",
     "output_type": "stream",
     "text": [
      "C:\\Users\\Usuário\\AppData\\Local\\Temp\\ipykernel_7364\\1915251375.py:52: RuntimeWarning: divide by zero encountered in double_scalars\n",
      "  x[i] = (A[i, -1] - np.dot(A[i, i + 1:n], x[i + 1:n])) / A[i, i]\n"
     ]
    },
    {
     "ename": "IndexError",
     "evalue": "list index out of range",
     "output_type": "error",
     "traceback": [
      "\u001b[1;31m---------------------------------------------------------------------------\u001b[0m",
      "\u001b[1;31mIndexError\u001b[0m                                Traceback (most recent call last)",
      "\u001b[1;32mc:\\Users\\Usuário\\Downloads\\UFPB\\2023.1\\PO\\PesquisaOperacional\\SolverSistemaPadrao.ipynb Cell 3\u001b[0m in \u001b[0;36m<cell line: 34>\u001b[1;34m()\u001b[0m\n\u001b[0;32m     <a href='vscode-notebook-cell:/c%3A/Users/Usu%C3%A1rio/Downloads/UFPB/2023.1/PO/PesquisaOperacional/SolverSistemaPadrao.ipynb#W5sZmlsZQ%3D%3D?line=30'>31</a>\u001b[0m         Vertices\u001b[39m.\u001b[39mappend(xb)\n\u001b[0;32m     <a href='vscode-notebook-cell:/c%3A/Users/Usu%C3%A1rio/Downloads/UFPB/2023.1/PO/PesquisaOperacional/SolverSistemaPadrao.ipynb#W5sZmlsZQ%3D%3D?line=31'>32</a>\u001b[0m         ValidC\u001b[39m.\u001b[39mappend(i)\n\u001b[1;32m---> <a href='vscode-notebook-cell:/c%3A/Users/Usu%C3%A1rio/Downloads/UFPB/2023.1/PO/PesquisaOperacional/SolverSistemaPadrao.ipynb#W5sZmlsZQ%3D%3D?line=33'>34</a>\u001b[0m \u001b[39mprint\u001b[39m(Z(ValidC, Vertices, num_vars))\n",
      "\u001b[1;32mc:\\Users\\Usuário\\Downloads\\UFPB\\2023.1\\PO\\PesquisaOperacional\\SolverSistemaPadrao.ipynb Cell 3\u001b[0m in \u001b[0;36mZ\u001b[1;34m(p, v, num_vars)\u001b[0m\n\u001b[0;32m      <a href='vscode-notebook-cell:/c%3A/Users/Usu%C3%A1rio/Downloads/UFPB/2023.1/PO/PesquisaOperacional/SolverSistemaPadrao.ipynb#W5sZmlsZQ%3D%3D?line=2'>3</a>\u001b[0m z \u001b[39m=\u001b[39m []\n\u001b[0;32m      <a href='vscode-notebook-cell:/c%3A/Users/Usu%C3%A1rio/Downloads/UFPB/2023.1/PO/PesquisaOperacional/SolverSistemaPadrao.ipynb#W5sZmlsZQ%3D%3D?line=3'>4</a>\u001b[0m \u001b[39mfor\u001b[39;00m k \u001b[39min\u001b[39;00m \u001b[39mrange\u001b[39m(\u001b[39mlen\u001b[39m(p)):\n\u001b[0;32m      <a href='vscode-notebook-cell:/c%3A/Users/Usu%C3%A1rio/Downloads/UFPB/2023.1/PO/PesquisaOperacional/SolverSistemaPadrao.ipynb#W5sZmlsZQ%3D%3D?line=4'>5</a>\u001b[0m    \u001b[39m# z.append(sum(x[pk - 1] * vk for pk, vk in zip(p[k], v[k])))\u001b[39;00m\n\u001b[1;32m----> <a href='vscode-notebook-cell:/c%3A/Users/Usu%C3%A1rio/Downloads/UFPB/2023.1/PO/PesquisaOperacional/SolverSistemaPadrao.ipynb#W5sZmlsZQ%3D%3D?line=5'>6</a>\u001b[0m    \u001b[39mprint\u001b[39m(x[k])\n",
      "\u001b[1;31mIndexError\u001b[0m: list index out of range"
     ]
    }
   ],
   "source": [
    "#-=====================-#\n",
    "\n",
    "#Parte Génerica\n",
    "#Aceita qualquer sistema de equações lineares\n",
    "\n",
    "\n",
    "\n",
    "num_vars = 5\n",
    "num_constraints = 3\n",
    "r = 3  # Variáveis a serem escolhidas no sistema\n",
    "\n",
    "l = np.array(list(range(1, num_vars + 1)))  # Variáveis do sistema\n",
    "VarCombination = Combination(l, num_vars, r)  # Possíveis combinações de vértices de região viável\n",
    "\n",
    "A = np.array([\n",
    "    [1, 0, 1, 0, 0],\n",
    "    [0, 1, 0, 1, 0],\n",
    "    [3, 2, 0, 0, 5]\n",
    "], dtype=np.float64)\n",
    "\n",
    "b = np.array([4, 6, 18])\n",
    "\n",
    "Vertices = []\n",
    "ValidC = []\n",
    "\n",
    "for i in VarCombination:\n",
    "    adjusted_i = [idx - 1 for idx in i]  # Subtrai 1 de cada valor em i\n",
    "    H = A[:, adjusted_i]\n",
    "    xb = SistemSolver(GaussianElimination(MatrizAumentada(H, b)))\n",
    "    if not np.isnan(xb).any() and np.all(np.isfinite(xb)):\n",
    "        Vertices.append(xb)\n",
    "        ValidC.append(i)\n",
    "\n",
    "print(Z(ValidC, Vertices, num_vars))\n",
    "\n",
    "\n"
   ]
  },
  {
   "cell_type": "code",
   "execution_count": 51,
   "metadata": {},
   "outputs": [
    {
     "data": {
      "text/plain": [
       "[[1, 2, 3],\n",
       " [1, 2, 4],\n",
       " [1, 2, 5],\n",
       " [1, 3, 4],\n",
       " [1, 4, 5],\n",
       " [2, 3, 4],\n",
       " [2, 3, 5],\n",
       " [3, 4, 5]]"
      ]
     },
     "execution_count": 51,
     "metadata": {},
     "output_type": "execute_result"
    }
   ],
   "source": [
    "ValidC"
   ]
  },
  {
   "cell_type": "code",
   "execution_count": 48,
   "metadata": {},
   "outputs": [],
   "source": [
    "def Z(p, v, num_vars): #Erro\n",
    "    x = [0] * num_vars\n",
    "    print(x)\n",
    "    z = []\n",
    "    \n",
    "    for k in range(len(p)):\n",
    "        \n",
    "        x[]\n",
    "        \n",
    "       # z.append(sum(x[pk - 1] * vk for pk, vk in zip(p[k], v[k])))\n",
    "    #return max(z), z.index(max(z))\n",
    "\n",
    "    \n",
    "    "
   ]
  },
  {
   "cell_type": "code",
   "execution_count": 49,
   "metadata": {},
   "outputs": [
    {
     "name": "stdout",
     "output_type": "stream",
     "text": [
      "[0, 0, 0, 0, 0]\n"
     ]
    },
    {
     "data": {
      "text/plain": [
       "True"
      ]
     },
     "execution_count": 49,
     "metadata": {},
     "output_type": "execute_result"
    }
   ],
   "source": [
    "Z(ValidC, Vertices, num_vars)"
   ]
  }
 ],
 "metadata": {
  "kernelspec": {
   "display_name": "Python 3",
   "language": "python",
   "name": "python3"
  },
  "language_info": {
   "codemirror_mode": {
    "name": "ipython",
    "version": 3
   },
   "file_extension": ".py",
   "mimetype": "text/x-python",
   "name": "python",
   "nbconvert_exporter": "python",
   "pygments_lexer": "ipython3",
   "version": "3.9.7 (tags/v3.9.7:1016ef3, Aug 30 2021, 20:19:38) [MSC v.1929 64 bit (AMD64)]"
  },
  "orig_nbformat": 4,
  "vscode": {
   "interpreter": {
    "hash": "c7eff589202d1b081309a21c1fcab32e7bd6b92ee77a4b4c9e08aff7652052eb"
   }
  }
 },
 "nbformat": 4,
 "nbformat_minor": 2
}
