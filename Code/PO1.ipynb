{
 "cells": [
  {
   "cell_type": "code",
   "execution_count": 6,
   "metadata": {},
   "outputs": [],
   "source": [
    "from mip import *"
   ]
  },
  {
   "cell_type": "code",
   "execution_count": 7,
   "metadata": {},
   "outputs": [],
   "source": [
    "def solve(model):\n",
    "  status = model.optimize()\n",
    "\n",
    "  print(\"Status = \", status)\n",
    "  print(f\"Solution value  = {model.objective_value:.2f}\\n\")\n",
    "\n",
    "  print(\"Solution:\")\n",
    "  for v in model.vars:\n",
    "      print(f\"{v.name} = {v.x:.2f}\")\n",
    "\n"
   ]
  },
  {
   "cell_type": "code",
   "execution_count": 8,
   "metadata": {},
   "outputs": [
    {
     "name": "stdout",
     "output_type": "stream",
     "text": [
      "\\Problem name: \n",
      "\n",
      "Minimize\n",
      "OBJROW: -20 x_0 -10 x_1 -30 x_2\n",
      "Subject To\n",
      "constr(0):  x_0 + x_1 + x_2 <= 800\n",
      "constr(1):  x_0 >= 200\n",
      "constr(2):  x_1 >= 100\n",
      "constr(3):  x_2 >= 300\n",
      "Bounds\n",
      "End\n",
      "\n"
     ]
    }
   ],
   "source": [
    " # implementa modelo\n",
    "\n",
    "model = Model(sense=MAXIMIZE,solver_name=CBC)\n",
    "\n",
    "# Criação da variável\n",
    "x = [model.add_var(var_type=CONTINUOUS, name=f\"x_{i}\", lb=0.0) for i in range(3)]\n",
    "\n",
    "model.objective = 20*x[0] + 10*x[1] + 30*x[2]\n",
    "\n",
    "#restrições:\n",
    "\n",
    "model += x[0] + x[1] + x[2] <= 800 \n",
    "model += x[0] >= 200\n",
    "model += x[1] >= 100\n",
    "model += x[2] >= 300\n",
    "\n",
    "\n",
    "\n",
    "model.write(\"model.lp\") # salva modelo em arquivo\n",
    "with open(\"model.lp\") as f: # lê e exibe conteúdo do arquivo\n",
    "  print(f.read())"
   ]
  },
  {
   "cell_type": "code",
   "execution_count": 9,
   "metadata": {},
   "outputs": [
    {
     "name": "stdout",
     "output_type": "stream",
     "text": [
      "Status =  OptimizationStatus.OPTIMAL\n",
      "Solution value  = 20000.00\n",
      "\n",
      "Solution:\n",
      "x_0 = 200.00\n",
      "x_1 = 100.00\n",
      "x_2 = 500.00\n"
     ]
    }
   ],
   "source": [
    "solve(model)"
   ]
  },
  {
   "cell_type": "code",
   "execution_count": 10,
   "metadata": {},
   "outputs": [],
   "source": [
    "model = Model(sense=MAXIMIZE,solver_name=CBC)\n",
    "\n",
    "\n",
    "x = [model.add_var(var_type=CONTINUOUS, name=f\"x_{i}\", lb=0.0) for i in range(2)]\n",
    "\n",
    "model.objective =  10*x[0] + 30*x[1] + 4000 \n",
    "\n",
    "\n",
    "#\n",
    "\n",
    "\n",
    "\n",
    "model += x[0] + x[1] <= 600\n",
    "model += 10*x[0] + 12*x[1] <= 40\n",
    "model += x[0] >= 100\n",
    "model += x[1] <= 200"
   ]
  },
  {
   "cell_type": "code",
   "execution_count": 11,
   "metadata": {},
   "outputs": [
    {
     "name": "stdout",
     "output_type": "stream",
     "text": [
      "Status =  OptimizationStatus.INFEASIBLE\n"
     ]
    },
    {
     "ename": "TypeError",
     "evalue": "unsupported format string passed to NoneType.__format__",
     "output_type": "error",
     "traceback": [
      "\u001b[1;31m---------------------------------------------------------------------------\u001b[0m",
      "\u001b[1;31mTypeError\u001b[0m                                 Traceback (most recent call last)",
      "\u001b[1;32mc:\\Users\\Usuário\\Downloads\\UFPB\\2023.1\\PO\\PesquisaOperacional\\Code\\PO1.ipynb Cell 6\u001b[0m in \u001b[0;36m<cell line: 1>\u001b[1;34m()\u001b[0m\n\u001b[1;32m----> <a href='vscode-notebook-cell:/c%3A/Users/Usu%C3%A1rio/Downloads/UFPB/2023.1/PO/PesquisaOperacional/Code/PO1.ipynb#W5sZmlsZQ%3D%3D?line=0'>1</a>\u001b[0m solve(model)\n",
      "\u001b[1;32mc:\\Users\\Usuário\\Downloads\\UFPB\\2023.1\\PO\\PesquisaOperacional\\Code\\PO1.ipynb Cell 6\u001b[0m in \u001b[0;36msolve\u001b[1;34m(model)\u001b[0m\n\u001b[0;32m      <a href='vscode-notebook-cell:/c%3A/Users/Usu%C3%A1rio/Downloads/UFPB/2023.1/PO/PesquisaOperacional/Code/PO1.ipynb#W5sZmlsZQ%3D%3D?line=1'>2</a>\u001b[0m status \u001b[39m=\u001b[39m model\u001b[39m.\u001b[39moptimize()\n\u001b[0;32m      <a href='vscode-notebook-cell:/c%3A/Users/Usu%C3%A1rio/Downloads/UFPB/2023.1/PO/PesquisaOperacional/Code/PO1.ipynb#W5sZmlsZQ%3D%3D?line=3'>4</a>\u001b[0m \u001b[39mprint\u001b[39m(\u001b[39m\"\u001b[39m\u001b[39mStatus = \u001b[39m\u001b[39m\"\u001b[39m, status)\n\u001b[1;32m----> <a href='vscode-notebook-cell:/c%3A/Users/Usu%C3%A1rio/Downloads/UFPB/2023.1/PO/PesquisaOperacional/Code/PO1.ipynb#W5sZmlsZQ%3D%3D?line=4'>5</a>\u001b[0m \u001b[39mprint\u001b[39m(\u001b[39mf\u001b[39m\u001b[39m\"\u001b[39m\u001b[39mSolution value  = \u001b[39m\u001b[39m{\u001b[39;00mmodel\u001b[39m.\u001b[39mobjective_value\u001b[39m:\u001b[39;00m\u001b[39m.2f\u001b[39m\u001b[39m}\u001b[39;00m\u001b[39m\\n\u001b[39;00m\u001b[39m\"\u001b[39m)\n\u001b[0;32m      <a href='vscode-notebook-cell:/c%3A/Users/Usu%C3%A1rio/Downloads/UFPB/2023.1/PO/PesquisaOperacional/Code/PO1.ipynb#W5sZmlsZQ%3D%3D?line=6'>7</a>\u001b[0m \u001b[39mprint\u001b[39m(\u001b[39m\"\u001b[39m\u001b[39mSolution:\u001b[39m\u001b[39m\"\u001b[39m)\n\u001b[0;32m      <a href='vscode-notebook-cell:/c%3A/Users/Usu%C3%A1rio/Downloads/UFPB/2023.1/PO/PesquisaOperacional/Code/PO1.ipynb#W5sZmlsZQ%3D%3D?line=7'>8</a>\u001b[0m \u001b[39mfor\u001b[39;00m v \u001b[39min\u001b[39;00m model\u001b[39m.\u001b[39mvars:\n",
      "\u001b[1;31mTypeError\u001b[0m: unsupported format string passed to NoneType.__format__"
     ]
    }
   ],
   "source": [
    "solve(model)"
   ]
  }
 ],
 "metadata": {
  "kernelspec": {
   "display_name": "Python 3",
   "language": "python",
   "name": "python3"
  },
  "language_info": {
   "codemirror_mode": {
    "name": "ipython",
    "version": 3
   },
   "file_extension": ".py",
   "mimetype": "text/x-python",
   "name": "python",
   "nbconvert_exporter": "python",
   "pygments_lexer": "ipython3",
   "version": "3.9.7"
  },
  "orig_nbformat": 4,
  "vscode": {
   "interpreter": {
    "hash": "c7eff589202d1b081309a21c1fcab32e7bd6b92ee77a4b4c9e08aff7652052eb"
   }
  }
 },
 "nbformat": 4,
 "nbformat_minor": 2
}
