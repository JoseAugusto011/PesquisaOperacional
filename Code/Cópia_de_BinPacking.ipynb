{
  "cells": [
    {
      "cell_type": "markdown",
      "metadata": {
        "id": "KkkfGB7mizn4"
      },
      "source": [
        "# Aula prática: Bin Packing\n"
      ]
    },
    {
      "cell_type": "markdown",
      "metadata": {
        "id": "6Pq0qYFUi66C"
      },
      "source": [
        "## Exercício 1\n"
      ]
    },
    {
      "cell_type": "markdown",
      "metadata": {
        "id": "18u4P6_fjHTa"
      },
      "source": [
        "### Descrição do problema\n",
        "Uma faculdade quer agendar as provas de 6 disciplinas. Existe uma regra que proíbe que o mesmo aluno tenha que fazer mais de uma prova por dia. A tabela abaixo mostra quais alunos (identificados por números) vão fazer a prova de cada disciplina. Por exemplo, A e B não podem ser agendadas no mesmo dia por causa do aluno 1. Já B e C poderiam ser agendadas no mesmo dia, pois nenhum aluno vai fazer essas duas provas.\n",
        "\n",
        "| Disciplina | Alunos |\n",
        "|:---:|:---:|\n",
        "| A | 1, 2, 3, 4 |\n",
        "| B | 1, 5 |\n",
        "| C | 3, 6, 7 |\n",
        "| D | 5, 7 |\n",
        "| E | 2, 7 |\n",
        "| F | 4, 5 |\n",
        "\n",
        "Crie um modelo de PLI para agendar essas provas no menor número de dias possível.\n",
        "**Dica: baseie-se no modelo do problema de empacotamento de caixas.**\n"
      ]
    },
    {
      "cell_type": "markdown",
      "metadata": {
        "id": "EW2_LyQlkB9Y"
      },
      "source": [
        "### Resolução"
      ]
    },
    {
      "cell_type": "code",
      "execution_count": 8,
      "metadata": {
        "colab": {
          "base_uri": "https://localhost:8080/"
        },
        "id": "UToKjaulioTm",
        "outputId": "bb7e2894-19d8-4570-813b-9a9b63249473"
      },
      "outputs": [],
      "source": [
        "# instalação e importação do pacote mip\n",
        "\n",
        "from mip import *\n",
        "\n",
        "# funcões usadas posteriormente:\n",
        "\n",
        "# resolve o modelo e mostra os valores das variáveis\n",
        "def solve(model):\n",
        "  status = model.optimize()\n",
        "\n",
        "  print(\"Status = \", status)\n",
        "  if status != OptimizationStatus.OPTIMAL:\n",
        "    return\n",
        "\n",
        "  print(f\"Solution value  = {model.objective_value:.2f}\\n\")\n",
        "\n",
        "  print(\"Solution:\")\n",
        "  for v in model.vars:\n",
        "    if v.x > 0.001:\n",
        "      print(f\"{v.name} = {v.x:.2f}\")\n",
        "\n",
        "\n",
        "# salva modelo em arquivo lp, e mostra o conteúdo\n",
        "def save(model, filename):\n",
        "  model.write(filename) # salva modelo em arquivo\n",
        "  with open(filename, \"r\") as f: # lê e exibe conteúdo do arquivo\n",
        "    print(f.read())"
      ]
    },
    {
      "cell_type": "code",
      "execution_count": 9,
      "metadata": {
        "colab": {
          "base_uri": "https://localhost:8080/"
        },
        "id": "a05VkFrcpOoW",
        "outputId": "40857362-285b-453c-e797-a028aabdd53f"
      },
      "outputs": [
        {
          "name": "stdout",
          "output_type": "stream",
          "text": [
            "(1, 2) 2\n",
            "(2, 4, 6) 3\n",
            "(1, 5) 2\n",
            "(1, 6) 2\n",
            "(1, 3) 2\n",
            "(3, 4, 5) 3\n"
          ]
        }
      ],
      "source": [
        "dic = {'A':[1,2,3,4],'B':[1,5],'C':[3,6,7],'D':[5,7],'E':[2,7],'F':[4,5]}\n",
        "\n",
        "I = [(1,2),(2,4,6),(1,5),(1,6),(1,3),(3,4,5)]\n",
        "\n",
        "for k in I:\n",
        "  print(k,len(k))"
      ]
    },
    {
      "cell_type": "code",
      "execution_count": 10,
      "metadata": {},
      "outputs": [],
      "source": [
        "#x[1][1] + x[2][1]\n",
        "#x[1][2] + x[2][2]\n",
        "# ...  +   ...\n",
        "#x[1][6] + x[2][6]\n",
        "\n",
        "\n"
      ]
    },
    {
      "cell_type": "code",
      "execution_count": 11,
      "metadata": {
        "colab": {
          "base_uri": "https://localhost:8080/"
        },
        "id": "zL3qpuLbkFDK",
        "outputId": "fd874073-1f47-4924-c43c-08e5a408e764"
      },
      "outputs": [
        {
          "name": "stdout",
          "output_type": "stream",
          "text": [
            "\\Problem name: \n",
            "\n",
            "Minimize\n",
            "OBJROW: y_1 + y_2 + y_3 + y_4 + y_5 + y_6\n",
            "Subject To\n",
            "constr(0):  x_1_1 + x_1_2 + x_1_3 + x_1_4 + x_1_5 + x_1_6 = 1\n",
            "constr(1):  x_2_1 + x_2_2 + x_2_3 + x_2_4 + x_2_5 + x_2_6 = 1\n",
            "constr(2):  x_3_1 + x_3_2 + x_3_3 + x_3_4 + x_3_5 + x_3_6 = 1\n",
            "constr(3):  x_4_1 + x_4_2 + x_4_3 + x_4_4 + x_4_5 + x_4_6 = 1\n",
            "constr(4):  x_5_1 + x_5_2 + x_5_3 + x_5_4 + x_5_5 + x_5_6 = 1\n",
            "constr(5):  x_6_1 + x_6_2 + x_6_3 + x_6_4 + x_6_5 + x_6_6 = 1\n",
            "constr(6):  - y_1 + x_1_1 + x_2_1 <= -0\n",
            "constr(7):  - y_1 + x_2_1 + x_4_1 + x_6_1 <= -0\n",
            "constr(8):  - y_1 + x_1_1 + x_5_1 <= -0\n",
            "constr(9):  - y_1 + x_1_1 + x_6_1 <= -0\n",
            "constr(10):  - y_1 + x_1_1 + x_3_1 <= -0\n",
            "constr(11):  - y_1 + x_3_1 + x_4_1 + x_5_1 <= -0\n",
            "constr(12):  - y_2 + x_1_2 + x_2_2 <= -0\n",
            "constr(13):  - y_2 + x_2_2 + x_4_2 + x_6_2 <= -0\n",
            "constr(14):  - y_2 + x_1_2 + x_5_2 <= -0\n",
            "constr(15):  - y_2 + x_1_2 + x_6_2 <= -0\n",
            "constr(16):  - y_2 + x_1_2 + x_3_2 <= -0\n",
            "constr(17):  - y_2 + x_3_2 + x_4_2 + x_5_2 <= -0\n",
            "constr(18):  - y_3 + x_1_3 + x_2_3 <= -0\n",
            "constr(19):  - y_3 + x_2_3 + x_4_3 + x_6_3 <= -0\n",
            "constr(20):  - y_3 + x_1_3 + x_5_3 <= -0\n",
            "constr(21):  - y_3 + x_1_3 + x_6_3 <= -0\n",
            "constr(22):  - y_3 + x_1_3 + x_3_3 <= -0\n",
            "constr(23):  - y_3 + x_3_3 + x_4_3 + x_5_3 <= -0\n",
            "constr(24):  - y_4 + x_1_4 + x_2_4 <= -0\n",
            "constr(25):  - y_4 + x_2_4 + x_4_4 + x_6_4 <= -0\n",
            "constr(26):  - y_4 + x_1_4 + x_5_4 <= -0\n",
            "constr(27):  - y_4 + x_1_4 + x_6_4 <= -0\n",
            "constr(28):  - y_4 + x_1_4 + x_3_4 <= -0\n",
            "constr(29):  - y_4 + x_3_4 + x_4_4 + x_5_4 <= -0\n",
            "constr(30):  - y_5 + x_1_5 + x_2_5 <= -0\n",
            "constr(31):  - y_5 + x_2_5 + x_4_5 + x_6_5 <= -0\n",
            "constr(32):  - y_5 + x_1_5 + x_5_5 <= -0\n",
            "constr(33):  - y_5 + x_1_5 + x_6_5 <= -0\n",
            "constr(34):  - y_5 + x_1_5 + x_3_5 <= -0\n",
            "constr(35):  - y_5 + x_3_5 + x_4_5 + x_5_5 <= -0\n",
            "constr(36):  - y_6 + x_1_6 + x_2_6 <= -0\n",
            "constr(37):  - y_6 + x_2_6 + x_4_6 + x_6_6 <= -0\n",
            "constr(38):  - y_6 + x_1_6 + x_5_6 <= -0\n",
            "constr(39):  - y_6 + x_1_6 + x_6_6 <= -0\n",
            "constr(40):  - y_6 + x_1_6 + x_3_6 <= -0\n",
            "constr(41):  - y_6 + x_3_6 + x_4_6 + x_5_6 <= -0\n",
            "constr(42):  y_1 <= 1\n",
            "constr(43):  - y_1 + x_1_1 <= -0\n",
            "constr(44):  - y_2 + x_1_2 <= -0\n",
            "constr(45):  - y_3 + x_1_3 <= -0\n",
            "constr(46):  - y_4 + x_1_4 <= -0\n",
            "constr(47):  - y_5 + x_1_5 <= -0\n",
            "constr(48):  - y_6 + x_1_6 <= -0\n",
            "constr(49):  y_2 <= 1\n",
            "constr(50):  - y_1 + x_2_1 <= -0\n",
            "constr(51):  - y_2 + x_2_2 <= -0\n",
            "constr(52):  - y_3 + x_2_3 <= -0\n",
            "constr(53):  - y_4 + x_2_4 <= -0\n",
            "constr(54):  - y_5 + x_2_5 <= -0\n",
            "constr(55):  - y_6 + x_2_6 <= -0\n",
            "constr(56):  y_3 <= 1\n",
            "constr(57):  - y_1 + x_3_1 <= -0\n",
            "constr(58):  - y_2 + x_3_2 <= -0\n",
            "constr(59):  - y_3 + x_3_3 <= -0\n",
            "constr(60):  - y_4 + x_3_4 <= -0\n",
            "constr(61):  - y_5 + x_3_5 <= -0\n",
            "constr(62):  - y_6 + x_3_6 <= -0\n",
            "constr(63):  y_4 <= 1\n",
            "constr(64):  - y_1 + x_4_1 <= -0\n",
            "constr(65):  - y_2 + x_4_2 <= -0\n",
            "constr(66):  - y_3 + x_4_3 <= -0\n",
            "constr(67):  - y_4 + x_4_4 <= -0\n",
            "constr(68):  - y_5 + x_4_5 <= -0\n",
            "constr(69):  - y_6 + x_4_6 <= -0\n",
            "constr(70):  y_5 <= 1\n",
            "constr(71):  - y_1 + x_5_1 <= -0\n",
            "constr(72):  - y_2 + x_5_2 <= -0\n",
            "constr(73):  - y_3 + x_5_3 <= -0\n",
            "constr(74):  - y_4 + x_5_4 <= -0\n",
            "constr(75):  - y_5 + x_5_5 <= -0\n",
            "constr(76):  - y_6 + x_5_6 <= -0\n",
            "constr(77):  y_6 <= 1\n",
            "constr(78):  - y_1 + x_6_1 <= -0\n",
            "constr(79):  - y_2 + x_6_2 <= -0\n",
            "constr(80):  - y_3 + x_6_3 <= -0\n",
            "constr(81):  - y_4 + x_6_4 <= -0\n",
            "constr(82):  - y_5 + x_6_5 <= -0\n",
            "constr(83):  - y_6 + x_6_6 <= -0\n",
            "Bounds\n",
            "Integers\n",
            "y_1 y_2 y_3 y_4 y_5 y_6 x_1_1 x_1_2 x_1_3 x_1_4 \n",
            "x_1_5 x_1_6 x_2_1 x_2_2 x_2_3 x_2_4 x_2_5 x_2_6 x_3_1 x_3_2 \n",
            "x_3_3 x_3_4 x_3_5 x_3_6 x_4_1 x_4_2 x_4_3 x_4_4 x_4_5 x_4_6 \n",
            "x_5_1 x_5_2 x_5_3 x_5_4 x_5_5 x_5_6 x_6_1 x_6_2 x_6_3 x_6_4 \n",
            "x_6_5 x_6_6 \n",
            "End\n",
            "\n"
          ]
        }
      ],
      "source": [
        "model = Model(sense=MINIMIZE, solver_name=CBC)\n",
        "\n",
        "y = {i: model.add_var(var_type=INTEGER, name=f'y_{i}', lb=0.0) for i in range(1,7)}\n",
        "x = {i: {j: model.add_var(var_type=INTEGER, name=f'x_{i}_{j}', lb=0.0) for j in range(1,7)}  for i in range(1,7)}\n",
        "\n",
        "model.objective = xsum(y[i]for i in range(1,7))\n",
        "\n",
        "p = [1,2,3,4,5,6]\n",
        "d = [1,2,3,4,5,6]\n",
        "\n",
        "# Restrição 1 - Somatório de (j pertence a d) (xij) = 1, para todo i pertence a p\n",
        "\n",
        "for i in range(1,7):\n",
        "  model += xsum(x[i][j] for j in range(1,7)) == 1\n",
        "\n",
        "\"\"\"\"\n",
        "for j in range(1,7):\n",
        "  model += x[1][j] + x[2][j] <= y[j]\n",
        "  model += x[1][j] + x[3][j] <= y[j]\n",
        "  model += x[1][j] + x[5][j] <= y[j]\n",
        "  model += x[1][j] + x[6][j] <= y[j]\n",
        "  \n",
        "  model += x[3][j] + x[4][j] + x[5][j] <= y[j]\n",
        "  model += x[2][j] + x[4][j] + x[6][j] <= y[j]\n",
        "  \n",
        "\"\"\"\n",
        "\n",
        "\n",
        "for j in range(1,7):\n",
        "  for k in I:\n",
        "    model += xsum(x[i][j] for i in k) <= y[j]\n",
        "    \n",
        "for i in range(1,7):\n",
        "  model+= y[i] <= 1\n",
        "  for j in range(1,7):\n",
        "    model += x[i][j] <= y[j]\n",
        "\n",
        "save(model, \"model.lp\")"
      ]
    },
    {
      "cell_type": "code",
      "execution_count": 12,
      "metadata": {
        "colab": {
          "base_uri": "https://localhost:8080/"
        },
        "id": "hpkM_kZ1qthr",
        "outputId": "e69f633c-6b39-4edb-e81e-41067e34245e"
      },
      "outputs": [
        {
          "name": "stdout",
          "output_type": "stream",
          "text": [
            "Status =  OptimizationStatus.OPTIMAL\n",
            "Solution value  = 3.00\n",
            "\n",
            "Solution:\n",
            "y_2 = 1.00\n",
            "y_4 = 1.00\n",
            "y_6 = 1.00\n",
            "x_1_4 = 1.00\n",
            "x_2_6 = 1.00\n",
            "x_3_6 = 1.00\n",
            "x_4_4 = 1.00\n",
            "x_5_2 = 1.00\n",
            "x_6_2 = 1.00\n"
          ]
        }
      ],
      "source": [
        "solve(model)"
      ]
    }
  ],
  "metadata": {
    "colab": {
      "collapsed_sections": [
        "18u4P6_fjHTa"
      ],
      "provenance": []
    },
    "kernelspec": {
      "display_name": "Python 3",
      "language": "python",
      "name": "python3"
    },
    "language_info": {
      "codemirror_mode": {
        "name": "ipython",
        "version": 3
      },
      "file_extension": ".py",
      "mimetype": "text/x-python",
      "name": "python",
      "nbconvert_exporter": "python",
      "pygments_lexer": "ipython3",
      "version": "3.9.7 (tags/v3.9.7:1016ef3, Aug 30 2021, 20:19:38) [MSC v.1929 64 bit (AMD64)]"
    },
    "vscode": {
      "interpreter": {
        "hash": "c7eff589202d1b081309a21c1fcab32e7bd6b92ee77a4b4c9e08aff7652052eb"
      }
    }
  },
  "nbformat": 4,
  "nbformat_minor": 0
}
