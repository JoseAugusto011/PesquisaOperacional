{
  "cells": [
    {
      "cell_type": "markdown",
      "metadata": {
        "id": "qDPM4byI4rXz"
      },
      "source": [
        "# Aula prática: Destinação de Produtos à Fabricas\n",
        "<sup>Exemplo do capítulo 8.3 do livro `Introdução à Pesquisa Operacional` de `Hillier e Lieberman`.</sup>"
      ]
    },
    {
      "cell_type": "markdown",
      "metadata": {
        "id": "17Ur_xiu43Om"
      },
      "source": [
        "## Exercício 1"
      ]
    },
    {
      "cell_type": "markdown",
      "metadata": {
        "id": "S_ECUHr85U0V"
      },
      "source": [
        "### Descrição do problema\n",
        "A Cia. Produtos Melhores decidiu iniciar a produção de quatro produtos novos usando três fábricas que, no momento, têm excesso de capacidade produtiva. Os produtos requerem um esforço de produção comparável por unidade, de modo que a capacidade produtiva disponível das fábricas seja medida pelo número de unidades de qualquer produto que possa ser produzido diariamente, conforme dado na tabela 1. A tabela 2 fornece a taxa de produção diária necessária para atender às vendas projetadas. Cada fábrica é capaz de produzir qualquer um desses produtos, exceto a Fábrica 2, que não pode fabricar o produto 3. Os custos variáveis por unidade de cada produto diferem de fábrica para fábrica, conforme a tabela 3.\n",
        "\n",
        "Tabela 1: Capacidade de produção disponível, por unidade do produto\n",
        "\n",
        "| | Fábrica 1 | Fábrica 2 | Fábrica 3 |\n",
        "|:---|:---:|:---:|:---:|\n",
        "| Capacidade disponível | 75 | 75 | 45 |\n",
        "\n",
        "Tabela 2: Demanda de produção diária\n",
        "\n",
        "| | Produto 1 | Produto 2 | Produto 3 | Produto 4 |\n",
        "|:---|:---:|:---:|:---:|:---:|\n",
        "| Demanda | 20 | 30 | 30 | 40 |\n",
        "\n",
        "Tabela 3: Custo unitário por produto\n",
        "\n",
        "| | Produto 1 | Produto 2 | Produto 3 | Produto 4 |\n",
        "|:---|:---:|:---:|:---:|:---:|\n",
        "| Fábrica 1 | 41 | 27 | 28 | 24 |\n",
        "| Fábrica 2 | 40 | 29 | - | 23 |\n",
        "| Fábrica 3 | 37 | 30 | 27 | 21 |\n",
        "\n",
        "A gerência precisa tomar uma decisão sobre como dividir a fabricação dos produtos entre as fábricas, e decidiu permitir a divisão da produção de um mesmo produto em mais de uma fábrica.\n",
        "\n",
        "Escreva um modelo para determinar quais fábricas produzirão quais produtos e a que custo total."
      ]
    },
    {
      "cell_type": "markdown",
      "metadata": {
        "id": "r0sGHJD97MIz"
      },
      "source": [
        "### Resolução"
      ]
    },
    {
      "cell_type": "code",
      "execution_count": 14,
      "metadata": {
        "colab": {
          "base_uri": "https://localhost:8080/"
        },
        "id": "Fm0Dc8uR7Qsz",
        "outputId": "fec918a5-059b-49a3-f3b6-9f36ec026608"
      },
      "outputs": [],
      "source": [
        "# instalação e importação do pacote mip\n",
        "from mip import *\n",
        "\n",
        "# funcões usadas posteriormente:\n",
        "\n",
        "# resolve o modelo e mostra os valores das variáveis\n",
        "def solve(model):\n",
        "  status = model.optimize()\n",
        "\n",
        "  print(\"Status = \", status)\n",
        "  print(f\"Solution value  = {model.objective_value:.2f}\\n\")\n",
        "\n",
        "  print(\"Solution:\")\n",
        "  for v in model.vars:\n",
        "      print(f\"{v.name} = {v.x:.2f}\")\n",
        "\n",
        "\n",
        "# salva modelo em arquivo lp, e mostra o conteúdo\n",
        "def save(model, filename):\n",
        "  model.write(filename) # salva modelo em arquivo\n",
        "  with open(filename, \"r\") as f: # lê e exibe conteúdo do arquivo\n",
        "    print(f.read())"
      ]
    },
    {
      "cell_type": "code",
      "execution_count": 15,
      "metadata": {},
      "outputs": [],
      "source": [
        "#Xij = qtd do produto j  da fábrica i\n",
        "\n",
        "f = [1,2,3]\n",
        "p = [1,2,3,4]\n",
        "\n",
        "c = [75,75,45] # Capacidade da i-ésima fábrica\n",
        "d = [20,30,30,40] # demanda do j-ésimo produto\n",
        "\n",
        "a = [[41,27,28,24],[40,29,0,23],[37,30,27,21]] # cuso de de fabricação do j-ésimo produto pela i-ésima fábrica"
      ]
    },
    {
      "cell_type": "code",
      "execution_count": 16,
      "metadata": {
        "colab": {
          "base_uri": "https://localhost:8080/",
          "height": 245
        },
        "id": "jP4fukpK7X1h",
        "outputId": "818cc886-3cf5-4e67-94d1-89246ac6e01c"
      },
      "outputs": [
        {
          "name": "stdout",
          "output_type": "stream",
          "text": [
            "\\Problem name: \n",
            "\n",
            "Minimize\n",
            "OBJROW: 41 x_1_1 + 27 x_1_2 + 28 x_1_3 + 24 x_1_4 + 40 x_2_1 + 29 x_2_2 + 100000 x_2_3 + 23 x_2_4 + 37 x_3_1 + 30 x_3_2\n",
            " + 27 x_3_3 + 21 x_3_4\n",
            "Subject To\n",
            "constr(0):  x_1_1 + x_1_2 + x_1_3 + x_1_4 <= 75\n",
            "constr(1):  x_2_1 + x_2_2 + x_2_3 + x_2_4 <= 75\n",
            "constr(2):  x_3_1 + x_3_2 + x_3_3 + x_3_4 <= 45\n",
            "constr(3):  x_1_1 + x_2_1 + x_3_1 = 20\n",
            "constr(4):  x_1_2 + x_2_2 + x_3_2 = 30\n",
            "constr(5):  x_1_3 + x_2_3 + x_3_3 = 30\n",
            "constr(6):  x_1_4 + x_2_4 + x_3_4 = 40\n",
            "Bounds\n",
            "Integers\n",
            "x_1_1 x_1_2 x_1_3 x_1_4 x_2_1 x_2_2 x_2_3 x_2_4 x_3_1 x_3_2 \n",
            "x_3_3 x_3_4 \n",
            "End\n",
            "\n"
          ]
        }
      ],
      "source": [
        "model = Model(sense=MINIMIZE, solver_name=CBC)\n",
        "\n",
        "#Xij = qtd do produto j  da fábrica i\n",
        "x = {i: {j: model.add_var(var_type=INTEGER, name=f'x_{i}_{j}', lb=0.0) for j in p}  for i in f}\n",
        "\n",
        "\n",
        "# Função objetivo \n",
        "\n",
        "#model.objective = sum(a[i-1][j-1]*x[i][j] for i in f for j in p)\n",
        "\n",
        "model.objective = 41*x[1][1] + 27*x[1][2] + 28*x[1][3] + 24*x[1][4] + 40*x[2][1] + 29*x[2][2] + 100000*x[2][3] + 23*x[2][4] + 37*x[3][1] + 30*x[3][2] + 27*x[3][3] + 21*x[3][4]\n",
        "\n",
        "# Restrições de capacidade\n",
        "model += x[1][1] + x[1][2] + x[1][3] + x[1][4] <= 75\n",
        "model += x[2][1] + x[2][2] + x[2][3] + x[2][4] <= 75\n",
        "model += x[3][1] + x[3][2] + x[3][3] + x[3][4] <= 45\n",
        "\n",
        "# Restrições de demanda\n",
        "model += x[1][1] + x[2][1] + x[3][1] == 20\n",
        "model += x[1][2] + x[2][2] + x[3][2] == 30\n",
        "model += x[1][3] + x[2][3] + x[3][3] == 30\n",
        "model += x[1][4] + x[2][4] + x[3][4] == 40\n",
        "\n",
        "\n",
        "save(model, \"model.lp\")"
      ]
    },
    {
      "cell_type": "code",
      "execution_count": 17,
      "metadata": {
        "colab": {
          "base_uri": "https://localhost:8080/",
          "height": 176
        },
        "id": "hHo6N8Pw7Zpf",
        "outputId": "af501067-f6ab-4669-e752-164a19aba750"
      },
      "outputs": [
        {
          "name": "stdout",
          "output_type": "stream",
          "text": [
            "Status =  OptimizationStatus.OPTIMAL\n",
            "Solution value  = 3260.00\n",
            "\n",
            "Solution:\n",
            "x_1_1 = 0.00\n",
            "x_1_2 = 30.00\n",
            "x_1_3 = 30.00\n",
            "x_1_4 = 0.00\n",
            "x_2_1 = 0.00\n",
            "x_2_2 = 0.00\n",
            "x_2_3 = 0.00\n",
            "x_2_4 = 15.00\n",
            "x_3_1 = 20.00\n",
            "x_3_2 = 0.00\n",
            "x_3_3 = 0.00\n",
            "x_3_4 = 25.00\n"
          ]
        }
      ],
      "source": [
        "solve(model)"
      ]
    },
    {
      "cell_type": "markdown",
      "metadata": {
        "id": "aMs1wHIugRae"
      },
      "source": [
        "## Exercício 2\n",
        "\n",
        "Refaça o modelo anterior, dessa vez impedindo a divisão de produtos entre fábricas. Ou seja, cada produto deve ser integralmente produzido em uma única fábrica, para eliminar custos ocultos associados à divisão da produção. A cada fábrica deve ser destinado pelo menos um produto."
      ]
    },
    {
      "cell_type": "markdown",
      "metadata": {
        "id": "gKJj1JLUgRag"
      },
      "source": [
        "### Resolução"
      ]
    },
    {
      "cell_type": "code",
      "execution_count": 20,
      "metadata": {
        "id": "92okSArZgRah"
      },
      "outputs": [
        {
          "name": "stdout",
          "output_type": "stream",
          "text": [
            "\\Problem name: \n",
            "\n",
            "Minimize\n",
            "OBJROW: 820 x_1_1 + 810 x_1_2 + 840 x_1_3 + 960 x_1_4 + 800 x_2_1 + 870 x_2_2 + 3000000 x_2_3 + 920 x_2_4 + 740 x_3_1 + 900 x_3_2\n",
            " + 810 x_3_3 + 840 x_3_4\n",
            "Subject To\n",
            "constr(0):  20 x_1_1 + 30 x_1_2 + 30 x_1_3 + 40 x_1_4 <= 75\n",
            "constr(1):  20 x_2_1 + 30 x_2_2 + 30 x_2_3 + 40 x_2_4 <= 75\n",
            "constr(2):  20 x_3_1 + 30 x_3_2 + 30 x_3_3 + 40 x_3_4 <= 45\n",
            "constr(3):  x_1_1 + x_2_1 + x_3_1 = 1\n",
            "constr(4):  x_1_2 + x_2_2 + x_3_2 = 1\n",
            "constr(5):  x_1_3 + x_2_3 + x_3_3 = 1\n",
            "constr(6):  x_1_4 + x_2_4 + x_3_4 = 1\n",
            "constr(7):  x_1_1 + x_1_2 + x_1_3 + x_1_4 >= 1\n",
            "constr(8):  x_2_1 + x_2_2 + x_2_3 + x_2_4 >= 1\n",
            "constr(9):  x_3_1 + x_3_2 + x_3_3 + x_3_4 >= 1\n",
            "Bounds\n",
            " 0 <= x_1_1 <= 1\n",
            " 0 <= x_1_2 <= 1\n",
            " 0 <= x_1_3 <= 1\n",
            " 0 <= x_1_4 <= 1\n",
            " 0 <= x_2_1 <= 1\n",
            " 0 <= x_2_2 <= 1\n",
            " 0 <= x_2_3 <= 1\n",
            " 0 <= x_2_4 <= 1\n",
            " 0 <= x_3_1 <= 1\n",
            " 0 <= x_3_2 <= 1\n",
            " 0 <= x_3_3 <= 1\n",
            " 0 <= x_3_4 <= 1\n",
            "Integers\n",
            "x_1_1 x_1_2 x_1_3 x_1_4 x_2_1 x_2_2 x_2_3 x_2_4 x_3_1 x_3_2 \n",
            "x_3_3 x_3_4 \n",
            "End\n",
            "\n"
          ]
        }
      ],
      "source": [
        "model = Model(sense=MINIMIZE, solver_name=CBC)\n",
        "\n",
        "#Xij = Booleano se haverá prod do produto j  da fábrica i\n",
        "x = {i: {j: model.add_var(var_type=BINARY, name=f'x_{i}_{j}', lb=0.0) for j in p}  for i in f}\n",
        "\n",
        "\n",
        "# Função objetivo \n",
        "\n",
        "#z = (j e p) somatório de dj*aij*xij para todo i e j\n",
        "\n",
        "model.objective = 41*20*x[1][1] + 27*30*x[1][2] + 28*30*x[1][3] + 24*40*x[1][4] + 40*20*x[2][1] + 29*30*x[2][2] + 100000*30*x[2][3] + 23*40*x[2][4] + 37*20*x[3][1] + 30*30*x[3][2] + 27*30*x[3][3] + 21*40*x[3][4]\n",
        "\n",
        "# Restrição de demanda\n",
        "model += 20*x[1][1] + 30*x[1][2] + 30*x[1][3] + 40*x[1][4] <= 75\n",
        "model += 20*x[2][1] + 30*x[2][2] + 30*x[2][3] + 40*x[2][4] <= 75\n",
        "model += 20*x[3][1] + 30*x[3][2] + 30*x[3][3] + 40*x[3][4] <= 45\n",
        "\n",
        "#restrição de integralidade da produção\n",
        "model += x[1][1] + x[2][1] + x[3][1] == 1\n",
        "model += x[1][2] + x[2][2] + x[3][2] == 1\n",
        "model += x[1][3] + x[2][3] + x[3][3] == 1\n",
        "model += x[1][4] + x[2][4] + x[3][4] == 1\n",
        "\n",
        "\n",
        "#Restrição de não ociosidade\n",
        "model += x[1][1] + x[1][2] + x[1][3] + x[1][4] >= 1\n",
        "model += x[2][1] + x[2][2] + x[2][3] + x[2][4] >= 1\n",
        "model += x[3][1] + x[3][2] + x[3][3] + x[3][4] >= 1\n",
        "\n",
        "save(model, \"model2.lp\")"
      ]
    },
    {
      "cell_type": "code",
      "execution_count": 21,
      "metadata": {
        "id": "D0hi2a4UgRai"
      },
      "outputs": [
        {
          "name": "stdout",
          "output_type": "stream",
          "text": [
            "Status =  OptimizationStatus.OPTIMAL\n",
            "Solution value  = 3290.00\n",
            "\n",
            "Solution:\n",
            "x_1_1 = 0.00\n",
            "x_1_2 = 1.00\n",
            "x_1_3 = 1.00\n",
            "x_1_4 = 0.00\n",
            "x_2_1 = 1.00\n",
            "x_2_2 = 0.00\n",
            "x_2_3 = 0.00\n",
            "x_2_4 = 0.00\n",
            "x_3_1 = 0.00\n",
            "x_3_2 = 0.00\n",
            "x_3_3 = 0.00\n",
            "x_3_4 = 1.00\n"
          ]
        }
      ],
      "source": [
        "solve(model)"
      ]
    }
  ],
  "metadata": {
    "colab": {
      "provenance": []
    },
    "kernelspec": {
      "display_name": "Python 3",
      "language": "python",
      "name": "python3"
    },
    "language_info": {
      "codemirror_mode": {
        "name": "ipython",
        "version": 3
      },
      "file_extension": ".py",
      "mimetype": "text/x-python",
      "name": "python",
      "nbconvert_exporter": "python",
      "pygments_lexer": "ipython3",
      "version": "3.9.7"
    },
    "vscode": {
      "interpreter": {
        "hash": "c7eff589202d1b081309a21c1fcab32e7bd6b92ee77a4b4c9e08aff7652052eb"
      }
    }
  },
  "nbformat": 4,
  "nbformat_minor": 0
}
