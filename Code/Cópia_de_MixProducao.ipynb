{
  "cells": [
    {
      "cell_type": "markdown",
      "metadata": {
        "id": "btv0znHmsR5D"
      },
      "source": [
        "# Aula prática: Mix de Produção\n",
        "<sup>Adaptado dos exercícios 2.3 e 2.5 do livro `Pesquisa Operacional`, de `Arenales, Armentano, Morabito e Yanasse`.</sup>"
      ]
    },
    {
      "cell_type": "markdown",
      "metadata": {
        "id": "0hUSOEftsR5E"
      },
      "source": [
        "## Exercício 1"
      ]
    },
    {
      "cell_type": "markdown",
      "metadata": {
        "id": "T_SOsXELsR5E"
      },
      "source": [
        "### Descrição do problema\n",
        "Uma fundição tem de produzir 10 toneladas de um tipo de liga metálica e, para isso, tem disponível: lingotes de ferro, grafite e sucata. Dois componentes são relevantes para a liga: carbono e silício. As tabelas a seguir fornecem a fração, em termos percentuais, desses elementos nos ingredientes disponíveis, seus custos unitários, bem como a composição da liga (isto é, porcentagens mínima e máxima de cada componente da liga).\n",
        "\n",
        "Frações dos elementos (%) nos ingredientes e custo dos ingredientes (R$/ton):\n",
        "\n",
        "| | Lingotes | Grafite | Sucata |\n",
        "|:---|:---:|:---:|:---:|\n",
        "| Carbono | 0.5 | 90 | 9 |\n",
        "| Silício | 14 | - | 27 |\n",
        "| Custo | 90 | 180 | 25 |\n",
        "\n",
        "Frações (%) mínima e máxima dos componentes na liga:\n",
        "\n",
        "| | min | max |\n",
        "|:---|:---:|:---:|\n",
        "|Carbono | 0.0 | 9.5 |\n",
        "|Silício | 19 | 20 |\n",
        "\n",
        "\n",
        "Escreva um modelo de otimização linear para determinar as quantidades dos ingredientes para compor a liga metálica, de modo que as especificações técnicas sejam satisfeitas e o custo seja mínimo."
      ]
    },
    {
      "cell_type": "markdown",
      "metadata": {
        "id": "EtPxBakTtQbV"
      },
      "source": [
        "### Resolução"
      ]
    },
    {
      "cell_type": "code",
      "execution_count": 1,
      "metadata": {
        "colab": {
          "base_uri": "https://localhost:8080/"
        },
        "id": "7pMG-i60tGC4",
        "outputId": "4b0af58e-7489-42f1-bbe5-c8c866aca137"
      },
      "outputs": [],
      "source": [
        "# instalação e importação do pacote mip\n",
        "#!pip install mip\n",
        "\n",
        "from mip import *"
      ]
    },
    {
      "cell_type": "markdown",
      "metadata": {
        "id": "Soe9owdkxmmg"
      },
      "source": [
        "Carrega Dados"
      ]
    },
    {
      "cell_type": "code",
      "execution_count": 2,
      "metadata": {
        "id": "1foz1NwTtzuH"
      },
      "outputs": [],
      "source": [
        "# composição de cada ingrediente\n",
        "a = {\n",
        "    'l': {'c': 0.005, 's': 0.14},\n",
        "    'g': {'c': 0.9,   's': 0.0},\n",
        "    's': {'c': 0.09,  's': 0.27},\n",
        "}\n",
        "\n",
        "# custo\n",
        "c = {'l': 90, 'g': 180, 's': 25}\n",
        "\n",
        "# composições mínimas e máximas dos componentes\n",
        "n = {'c': 0.0, 's': 0.19}  # min\n",
        "m = {'c': 0.095, 's': 0.2} # max\n",
        "\n",
        "# quantidade desejada da liga\n",
        "Q = 10"
      ]
    },
    {
      "cell_type": "markdown",
      "metadata": {
        "id": "1tHfPbSfxp_k"
      },
      "source": [
        "Cria modelo"
      ]
    },
    {
      "cell_type": "code",
      "execution_count": 3,
      "metadata": {
        "colab": {
          "base_uri": "https://localhost:8080/"
        },
        "id": "woEL0ub3W17Q",
        "outputId": "f34db52c-5006-4d73-afe0-0e410c95e853"
      },
      "outputs": [
        {
          "name": "stdout",
          "output_type": "stream",
          "text": [
            "\\Problem name: \n",
            "\n",
            "Minimize\n",
            "OBJROW: 90 x_0 + 180 x_1 + 25 x_2\n",
            "Subject To\n",
            "constr(0):  0.00500 x_0 + 0.90000 x_1 + 0.09000 x_2 >= -0\n",
            "constr(1):  0.00500 x_0 + 0.90000 x_1 + 0.09000 x_2 <= 0.95000\n",
            "constr(2):  0.14000 x_0 + 0.27000 x_2 >= 1.90000\n",
            "constr(3):  0.14000 x_0 + 0.27000 x_2 <= 2\n",
            "constr(4):  x_0 + x_1 + x_2 = 10\n",
            "Bounds\n",
            "End\n",
            "\n"
          ]
        }
      ],
      "source": [
        " # implementa modelo\n",
        "\n",
        "model = Model(sense=MINIMIZE,solver_name=CBC)\n",
        "\n",
        "# Criação da variável\n",
        "x = [model.add_var(var_type=CONTINUOUS, name=f\"x_{i}\", lb=0.0) for i in range(3)]\n",
        "\n",
        "model.objective = 90*x[0] + 180*x[1] + 25*x[2]\n",
        "\n",
        "#restrições:\n",
        "\n",
        "model += 0.005*x[0] + 0.9*x[1] + 0.09*x[2] >= 0.0*Q\n",
        "model += 0.005*x[0] + 0.9*x[1] + 0.09*x[2] <= 0.095*Q\n",
        "\n",
        "model += 0.14*x[0] + 0.27*x[2] >= 0.19*Q\n",
        "model += 0.14*x[0] + 0.27*x[2] <= 0.2*Q\n",
        "\n",
        "model += x[0] + x[1] + x[2] == 10\n",
        "\n",
        "model.write(\"model.lp\") # salva modelo em arquivo\n",
        "with open(\"model.lp\") as f: # lê e exibe conteúdo do arquivo\n",
        "  print(f.read())"
      ]
    },
    {
      "cell_type": "code",
      "execution_count": 4,
      "metadata": {
        "colab": {
          "base_uri": "https://localhost:8080/"
        },
        "id": "_09wW75WTlLW",
        "outputId": "fa74cfaa-c1b7-43d4-8cbb-2030ed6639af"
      },
      "outputs": [
        {
          "data": {
            "text/plain": [
              "<OptimizationStatus.LOADED: 6>"
            ]
          },
          "execution_count": 4,
          "metadata": {},
          "output_type": "execute_result"
        }
      ],
      "source": [
        "model.status"
      ]
    },
    {
      "cell_type": "markdown",
      "metadata": {
        "id": "dC0dH9Vgx11z"
      },
      "source": [
        "Executa"
      ]
    },
    {
      "cell_type": "code",
      "execution_count": 5,
      "metadata": {
        "colab": {
          "base_uri": "https://localhost:8080/"
        },
        "id": "Ytos1fiAyt5n",
        "outputId": "7665dde2-0860-4e1a-8da6-74a626e4ba44"
      },
      "outputs": [
        {
          "name": "stdout",
          "output_type": "stream",
          "text": [
            "Status =  OptimizationStatus.OPTIMAL\n",
            "Solution value  = 600.00\n",
            "\n",
            "Solution:\n",
            "x_0 = 5.38\n",
            "x_1 = 0.00\n",
            "x_2 = 4.62\n"
          ]
        }
      ],
      "source": [
        "def solve(model):\n",
        "  status = model.optimize()\n",
        "\n",
        "  print(\"Status = \", status)\n",
        "  print(f\"Solution value  = {model.objective_value:.2f}\\n\")\n",
        "\n",
        "  print(\"Solution:\")\n",
        "  for v in model.vars:\n",
        "      print(f\"{v.name} = {v.x:.2f}\")\n",
        "\n",
        "solve(model)"
      ]
    },
    {
      "cell_type": "code",
      "execution_count": 5,
      "metadata": {
        "id": "pwkCWwSdTkOo"
      },
      "outputs": [],
      "source": []
    },
    {
      "cell_type": "markdown",
      "metadata": {
        "id": "0Sp8kCaGsR5E"
      },
      "source": [
        "## Exercício 2"
      ]
    },
    {
      "cell_type": "markdown",
      "metadata": {
        "id": "7PPfPnU7sR5E"
      },
      "source": [
        "Agora considere que os ingredientes tem o estoque limitado, de acordo com a tabela abaixo.\n",
        "\n",
        "| | Lingotes | Grafite | Sucata |\n",
        "|:---|:---:|:---:|:---:|\n",
        "| Estoque (ton) | 5 | 5 | 12 |\n",
        "\n",
        "Como o modelo pode ser modificado para atender a esse requisito?"
      ]
    },
    {
      "cell_type": "markdown",
      "metadata": {
        "id": "fSrbmrBD0fb9"
      },
      "source": [
        "### Código"
      ]
    },
    {
      "cell_type": "markdown",
      "metadata": {
        "id": "2iAz0aU99Dxo"
      },
      "source": [
        "Carrega Dados"
      ]
    },
    {
      "cell_type": "code",
      "execution_count": 6,
      "metadata": {
        "id": "Yz_PtRT89GxZ"
      },
      "outputs": [],
      "source": [
        "# estoque\n",
        "e = {'l': 5, 'g': 5, 's': 12}"
      ]
    },
    {
      "cell_type": "markdown",
      "metadata": {
        "id": "s9G5Hep50y0V"
      },
      "source": [
        "Cria modelo"
      ]
    },
    {
      "cell_type": "code",
      "execution_count": 9,
      "metadata": {
        "colab": {
          "base_uri": "https://localhost:8080/"
        },
        "id": "Ez6lX92UZxBU",
        "outputId": "a0b82bce-fba8-4546-afaa-7833a12e0443"
      },
      "outputs": [
        {
          "name": "stdout",
          "output_type": "stream",
          "text": [
            "\\Problem name: \n",
            "\n",
            "Minimize\n",
            "OBJROW: 90 x_0 + 180 x_1 + 25 x_2\n",
            "Subject To\n",
            "constr(0):  0.00500 x_0 + 0.90000 x_1 + 0.09000 x_2 >= -0\n",
            "constr(1):  0.00500 x_0 + 0.90000 x_1 + 0.09000 x_2 <= 0.95000\n",
            "constr(2):  0.14000 x_0 + 0.27000 x_2 >= 1.90000\n",
            "constr(3):  0.14000 x_0 + 0.27000 x_2 <= 2\n",
            "constr(4):  x_0 + x_1 + x_2 = 10\n",
            "constr(5):  x_0 <= 5\n",
            "constr(6):  x_1 <= 5\n",
            "constr(7):  x_0 <= 5\n",
            "constr(8):  x_1 <= 5\n",
            "constr(9):  x_2 <= 12\n",
            "Bounds\n",
            "End\n",
            "\n"
          ]
        }
      ],
      "source": [
        "# implementa modelo\n",
        "\n",
        "model += x[0] <= 5\n",
        "model += x[1] <=5\n",
        "model +=  x[2] <= 12\n",
        "\n",
        "\n",
        "model.write(\"modelo2.lp\") # salva modelo em arquivo\n",
        "with open(\"modelo2.lp\") as f: # Lê e exibe conteúdo do arquivo\n",
        "  print(f.read())"
      ]
    },
    {
      "cell_type": "markdown",
      "metadata": {
        "id": "Ue3ahEFA01L_"
      },
      "source": [
        "Executa"
      ]
    },
    {
      "cell_type": "code",
      "execution_count": 10,
      "metadata": {
        "colab": {
          "base_uri": "https://localhost:8080/"
        },
        "id": "EVs-Fx6D02Tc",
        "outputId": "7fab1a66-ba62-4fc2-a5ad-fa3e0a1b91b4"
      },
      "outputs": [
        {
          "name": "stdout",
          "output_type": "stream",
          "text": [
            "Status =  OptimizationStatus.OPTIMAL\n",
            "Solution value  = 603.70\n",
            "\n",
            "Solution:\n",
            "x_0 = 5.00\n",
            "x_1 = 0.19\n",
            "x_2 = 4.81\n"
          ]
        }
      ],
      "source": [
        "solve(model)"
      ]
    },
    {
      "cell_type": "markdown",
      "metadata": {
        "id": "2mE7ipJPsR5F"
      },
      "source": [
        "## Exercício 3"
      ]
    },
    {
      "cell_type": "markdown",
      "metadata": {
        "id": "-Er_QuwBsR5F"
      },
      "source": [
        "Suponha agora que duas ligas metálicas devem ser preparadas e os mesmos ingredientes são utilizados em ambas. A liga especificada no Exercício 1 é referida como liga 1 e devem ser produzidas 10 toneladas desta liga. Da outra liga, referida como liga 2, devem ser produzidas 6 toneladas e suas composições mínima e máxima são dadas na tabela abaixo.\n",
        "\n",
        "| | min | max |\n",
        "|:---|:---:|:---:|\n",
        "|Carbono | 0.00 | 40 |\n",
        "|Silício | 12 | 19 |\n"
      ]
    },
    {
      "cell_type": "markdown",
      "metadata": {
        "id": "Ay3bSczF1Ldt"
      },
      "source": [
        "### Código"
      ]
    },
    {
      "cell_type": "markdown",
      "metadata": {
        "id": "v12Efn0tMq3m"
      },
      "source": [
        "Carrega dados"
      ]
    },
    {
      "cell_type": "code",
      "execution_count": null,
      "metadata": {
        "id": "dFhCoNM1MtVy"
      },
      "outputs": [],
      "source": [
        "# composições mínimas e máximas dos componentes\n",
        "n = [{'c': 0.0, 's': 0.19}, {'c': 0.0, 's': 0.12}]\n",
        "m = [{'c': 0.095, 's': 0.2}, {'c': 0.4, 's': 0.19}]\n",
        "\n",
        "# quantidade desejada da liga\n",
        "Q = [10, 6]"
      ]
    },
    {
      "cell_type": "markdown",
      "metadata": {
        "id": "xMEEKulx1SN9"
      },
      "source": [
        "Cria modelo"
      ]
    },
    {
      "cell_type": "code",
      "execution_count": 14,
      "metadata": {
        "colab": {
          "base_uri": "https://localhost:8080/"
        },
        "id": "GWULXSegdJct",
        "outputId": "617a1553-82aa-4544-cfa9-0b09bdcf6ce1"
      },
      "outputs": [
        {
          "name": "stdout",
          "output_type": "stream",
          "text": [
            "\\Problem name: \n",
            "\n",
            "Minimize\n",
            "OBJROW: 90 x_0 + 180 x_1 + 25 x_2\n",
            "Subject To\n",
            "constr(0):  0.00500 x_0 + 0.90000 x_1 + 0.09000 x_2 >= -0\n",
            "constr(1):  0.00500 x_0 + 0.90000 x_1 + 0.09000 x_2 <= 2.40000\n",
            "constr(2):  0.14000 x_0 + 0.27000 x_2 >= 0.72000\n",
            "constr(3):  0.14000 x_0 + 0.27000 x_2 <= 1.14000\n",
            "constr(4):  x_0 + x_1 + x_2 = 6\n",
            "Bounds\n",
            "End\n",
            "\n"
          ]
        }
      ],
      "source": [
        "# implementa modelo\n",
        "\n",
        "Q= 6\n",
        "# implementa modelo\n",
        "\n",
        "model = Model(sense=MINIMIZE,solver_name=CBC)\n",
        "\n",
        "# Criação da variável\n",
        "x = [model.add_var(var_type=CONTINUOUS, name=f\"x_{i}\", lb=0.0) for i in range(3)]\n",
        "\n",
        "model.objective = 90*x[0] + 180*x[1] + 25*x[2]\n",
        "\n",
        "#restrições:\n",
        "\n",
        "model += 0.005*x[0] + 0.9*x[1] + 0.09*x[2] >= 0.0*Q\n",
        "model += 0.005*x[0] + 0.9*x[1] + 0.09*x[2] <= 0.4*Q\n",
        "\n",
        "model += 0.14*x[0] + 0.27*x[2] >= 0.12*Q\n",
        "model += 0.14*x[0] + 0.27*x[2] <= 0.19*Q\n",
        "\n",
        "model += x[0] + x[1] + x[2] == 6\n",
        "\n",
        "model.write(\"modelo3.lp\") # salva modelo em arquivo\n",
        "with open(\"modelo3.lp\") as f: # lê e exibe conteúdo do arquivo\n",
        "  print(f.read())\n"
      ]
    },
    {
      "cell_type": "markdown",
      "metadata": {
        "id": "8JECPXkw1UYP"
      },
      "source": [
        "Executa"
      ]
    },
    {
      "cell_type": "code",
      "execution_count": 15,
      "metadata": {
        "colab": {
          "base_uri": "https://localhost:8080/"
        },
        "id": "21cod-L71Wmr",
        "outputId": "833f82b5-7d4c-4f7b-9029-a4fbd0bb6af5"
      },
      "outputs": [
        {
          "name": "stdout",
          "output_type": "stream",
          "text": [
            "Status =  OptimizationStatus.OPTIMAL\n",
            "Solution value  = 390.00\n",
            "\n",
            "Solution:\n",
            "x_0 = 3.69\n",
            "x_1 = 0.00\n",
            "x_2 = 2.31\n"
          ]
        }
      ],
      "source": [
        "solve(model)"
      ]
    }
  ],
  "metadata": {
    "colab": {
      "provenance": []
    },
    "kernelspec": {
      "display_name": "Python 3",
      "language": "python",
      "name": "python3"
    },
    "language_info": {
      "codemirror_mode": {
        "name": "ipython",
        "version": 3
      },
      "file_extension": ".py",
      "mimetype": "text/x-python",
      "name": "python",
      "nbconvert_exporter": "python",
      "pygments_lexer": "ipython3",
      "version": "3.9.7 (tags/v3.9.7:1016ef3, Aug 30 2021, 20:19:38) [MSC v.1929 64 bit (AMD64)]"
    },
    "vscode": {
      "interpreter": {
        "hash": "c7eff589202d1b081309a21c1fcab32e7bd6b92ee77a4b4c9e08aff7652052eb"
      }
    }
  },
  "nbformat": 4,
  "nbformat_minor": 0
}
