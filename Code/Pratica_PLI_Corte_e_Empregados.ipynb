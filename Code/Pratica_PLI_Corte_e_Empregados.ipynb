{
  "cells": [
    {
      "cell_type": "markdown",
      "metadata": {
        "id": "KkkfGB7mizn4"
      },
      "source": [
        "# Aula prática: Programação Linear Inteira"
      ]
    },
    {
      "cell_type": "markdown",
      "metadata": {
        "id": "6Pq0qYFUi66C"
      },
      "source": [
        "## Exercício 1\n",
        "<sup>Exercício 3.7 do livro `Pesquisa Operacional` de `Arenales, Armentano, Morabito e Yanasse`.</sup>"
      ]
    },
    {
      "cell_type": "markdown",
      "metadata": {
        "id": "18u4P6_fjHTa"
      },
      "source": [
        "### Descrição do problema\n",
        "Em cada dia da semana, uma loja requer um número de empregados em tempo integral, de acordo com a tabela abaixo. Cada empregado deve trabalhar cinco dias consecutivos e descansar dois. Cada empregado recebe R$30 por dia.\n",
        "\n",
        "| | Segunda | Terça | Quarta | Quinta | Sexta | Sabádo | Domingo |\n",
        "|:---|:---:|:---:|:---:|:---:|:---:|:---:|:---:|\n",
        "| Empregados | 10 | 6 | 8 | 5 | 9 | 4 | 6 |\n",
        "\n",
        "Determine o número de empregados em tempo integral de forma a minimizar a despesa total com salários."
      ]
    },
    {
      "cell_type": "markdown",
      "metadata": {
        "id": "EW2_LyQlkB9Y"
      },
      "source": [
        "### Resolução"
      ]
    },
    {
      "cell_type": "code",
      "execution_count": null,
      "metadata": {
        "colab": {
          "base_uri": "https://localhost:8080/"
        },
        "id": "UToKjaulioTm",
        "outputId": "df69254e-0125-4182-bc1c-20a917010ea1"
      },
      "outputs": [
        {
          "name": "stdout",
          "output_type": "stream",
          "text": [
            "Collecting mip\n",
            "  Downloading mip-1.15.0-py3-none-any.whl (15.3 MB)\n",
            "\u001b[2K     \u001b[90m━━━━━━━━━━━━━━━━━━━━━━━━━━━━━━━━━━━━━━━━\u001b[0m \u001b[32m15.3/15.3 MB\u001b[0m \u001b[31m51.0 MB/s\u001b[0m eta \u001b[36m0:00:00\u001b[0m\n",
            "\u001b[?25hRequirement already satisfied: cffi==1.15.* in /usr/local/lib/python3.10/dist-packages (from mip) (1.15.1)\n",
            "Requirement already satisfied: pycparser in /usr/local/lib/python3.10/dist-packages (from cffi==1.15.*->mip) (2.21)\n",
            "Installing collected packages: mip\n",
            "Successfully installed mip-1.15.0\n"
          ]
        }
      ],
      "source": [
        "# instalação e importação do pacote mip\n",
        "!pip install mip\n",
        "from mip import *\n",
        "\n",
        "# funcões usadas posteriormente:\n",
        "\n",
        "# resolve o modelo e mostra os valores das variáveis\n",
        "def solve(model):\n",
        "  status = model.optimize()\n",
        "\n",
        "  print(\"Status = \", status)\n",
        "  print(f\"Solution value  = {model.objective_value:.2f}\\n\")\n",
        "\n",
        "  print(\"Solution:\")\n",
        "  for v in model.vars:\n",
        "      print(f\"{v.name} = {v.x:.2f}\")\n",
        "\n",
        "\n",
        "# salva modelo em arquivo lp, e mostra o conteúdo\n",
        "def save(model, filename):\n",
        "  model.write(filename) # salva modelo em arquivo\n",
        "  with open(filename, \"r\") as f: # lê e exibe conteúdo do arquivo\n",
        "    print(f.read())"
      ]
    },
    {
      "cell_type": "code",
      "execution_count": null,
      "metadata": {
        "colab": {
          "base_uri": "https://localhost:8080/"
        },
        "id": "hpkM_kZ1qthr",
        "outputId": "dab737f9-b2e5-45f3-b9ec-c97edf1c6c7a"
      },
      "outputs": [
        {
          "name": "stdout",
          "output_type": "stream",
          "text": [
            "\\Problem name: \n",
            "\n",
            "Minimize\n",
            "OBJROW: x_1 + x_2 + x_3 + x_4 + x_5 + x_6 + x_7\n",
            "Subject To\n",
            "constr(0):  x_1 + x_4 + x_5 + x_6 + x_7 >= 10\n",
            "constr(1):  x_3 + x_4 + x_5 + x_6 + x_7 >= 6\n",
            "constr(2):  x_2 + x_3 + x_4 + x_5 + x_6 >= 4\n",
            "constr(3):  x_1 + x_2 + x_3 + x_4 + x_5 >= 9\n",
            "constr(4):  x_1 + x_2 + x_3 + x_4 + x_7 >= 5\n",
            "constr(5):  x_1 + x_2 + x_3 + x_6 + x_7 >= 8\n",
            "constr(6):  x_1 + x_2 + x_5 + x_6 + x_7 >= 6\n",
            "Bounds\n",
            "Integers\n",
            "x_1 x_2 x_3 x_4 x_5 x_6 x_7 \n",
            "End\n",
            "\n"
          ]
        }
      ],
      "source": [
        "model = model = Model(sense=MINIMIZE, solver_name=CBC)\n",
        "x = {i: model.add_var(var_type=INTEGER, name=f'x_{i}', lb=0.0) for i in range(1,8)}\n",
        "\n",
        "#x = qtd de fun que começam a trabalhar no dia i\n",
        "#segunda = 1,terça = 2,....,terca=3\n",
        "model.objective = (x[1]+x[2]+x[3]+x[4]+x[5]+x[6]+x[7])\n",
        "\n",
        "model+=x[4]+x[5]+x[6]+x[7]+x[1]>=10\n",
        "model+=x[3]+x[4]+x[5]+x[6]+x[7]>=6\n",
        "model+=x[2]+x[3]+x[4]+x[5]+x[6]>=4\n",
        "model+=x[1]+x[2]+x[3]+x[4]+x[5]>=9\n",
        "model+=x[7]+x[1]+x[2]+x[3]+x[4]>=5\n",
        "model+=x[6]+x[7]+x[1]+x[2]+x[3]>=8\n",
        "model+=x[5]+x[6]+x[7]+x[1]+x[2]>=6\n",
        "\n",
        "save(model, \"model.lp\")"
      ]
    },
    {
      "cell_type": "code",
      "execution_count": null,
      "metadata": {
        "colab": {
          "base_uri": "https://localhost:8080/"
        },
        "id": "ob9Rw0Pvdjrv",
        "outputId": "824fc16d-c0ae-4dfc-9eaa-0d415414d15d"
      },
      "outputs": [
        {
          "name": "stdout",
          "output_type": "stream",
          "text": [
            "Status =  OptimizationStatus.OPTIMAL\n",
            "Solution value  = 11.00\n",
            "\n",
            "Solution:\n",
            "x_1 = 5.00\n",
            "x_2 = 0.00\n",
            "x_3 = 1.00\n",
            "x_4 = 3.00\n",
            "x_5 = 0.00\n",
            "x_6 = 2.00\n",
            "x_7 = 0.00\n"
          ]
        }
      ],
      "source": [
        "solve(model)"
      ]
    },
    {
      "cell_type": "markdown",
      "metadata": {
        "id": "Bzy5FAyisRxv"
      },
      "source": [
        "## Exercício 2\n",
        "<sup>Exercício da lista do Professor Marcone Jamilson (UFOP)</sup>"
      ]
    },
    {
      "cell_type": "markdown",
      "metadata": {
        "id": "ZhYAmS2fso88"
      },
      "source": [
        "### Descrição do problema\n",
        "Uma serralheria dispõe de barras de 6 metros de comprimento que devem ser cortadas para obter barras menores nos seguintes tamanhos: 50 barras de 2 metros, 60 barras de 3 metros e 90 barras de 4 metros. Elabore um modelo de programação linear inteira que minimize as perdas com os cortes.\n",
        "\n",
        "Dica: enumere as possíveis formas de se cortar uma barra de 6 metros em barras menores dos tamanhos listados acima."
      ]
    },
    {
      "cell_type": "markdown",
      "metadata": {
        "id": "uSjlnbBgsy5M"
      },
      "source": [
        "### Resolução"
      ]
    },
    {
      "cell_type": "code",
      "execution_count": null,
      "metadata": {
        "colab": {
          "base_uri": "https://localhost:8080/"
        },
        "id": "nuQ9Ve2Xxd6V",
        "outputId": "c5ae3614-0d5f-4898-8738-00bed01b1fd6"
      },
      "outputs": [
        {
          "name": "stdout",
          "output_type": "stream",
          "text": [
            "\\Problem name: \n",
            "\n",
            "Minimize\n",
            "OBJROW: x_1 + x_2 + x_3 + x_4\n",
            "Subject To\n",
            "constr(0):  x_1 + 3 x_3 + x_4 >= 50\n",
            "constr(1):  2 x_2 + x_4 >= 60\n",
            "constr(2):  x_1 >= 90\n",
            "Bounds\n",
            "Integers\n",
            "x_1 x_2 x_3 x_4 \n",
            "End\n",
            "\n"
          ]
        }
      ],
      "source": [
        "model = model = model = Model(sense=MINIMIZE, solver_name=CBC)\n",
        "x = {i: model.add_var(var_type=INTEGER, name=f'x_{i}', lb=0.0) for i in range(1,5)}\n",
        "\n",
        "model.objective = (x[1]+x[2]+x[3]+x[4])\n",
        "\n",
        "model+=x[1]+ 3*x[3]+x[4]>=50\n",
        "model+=2*x[2]+x[4]>=60\n",
        "model+=x[1]>=90\n",
        "\n",
        "save(model, \"model2.lp\")"
      ]
    },
    {
      "cell_type": "code",
      "execution_count": null,
      "metadata": {
        "colab": {
          "base_uri": "https://localhost:8080/"
        },
        "id": "VfS8iPfrdZSD",
        "outputId": "91df2e1f-c861-4cbc-b938-6cf9b88df6a8"
      },
      "outputs": [
        {
          "name": "stdout",
          "output_type": "stream",
          "text": [
            "Status =  OptimizationStatus.OPTIMAL\n",
            "Solution value  = 120.00\n",
            "\n",
            "Solution:\n",
            "x_1 = 90.00\n",
            "x_2 = 30.00\n",
            "x_3 = 0.00\n",
            "x_4 = 0.00\n"
          ]
        }
      ],
      "source": [
        "solve(model)"
      ]
    }
  ],
  "metadata": {
    "colab": {
      "provenance": []
    },
    "kernelspec": {
      "display_name": "Python 3",
      "language": "python",
      "name": "python3"
    },
    "language_info": {
      "name": "python",
      "version": "3.9.7 (tags/v3.9.7:1016ef3, Aug 30 2021, 20:19:38) [MSC v.1929 64 bit (AMD64)]"
    },
    "vscode": {
      "interpreter": {
        "hash": "c7eff589202d1b081309a21c1fcab32e7bd6b92ee77a4b4c9e08aff7652052eb"
      }
    }
  },
  "nbformat": 4,
  "nbformat_minor": 0
}
