{
 "cells": [
  {
   "cell_type": "code",
   "execution_count": 1,
   "metadata": {},
   "outputs": [],
   "source": [
    "# instalação e importa\n",
    "\n",
    "from mip import *"
   ]
  },
  {
   "cell_type": "code",
   "execution_count": 2,
   "metadata": {},
   "outputs": [],
   "source": [
    "# composição de cada ingrediente\n",
    "\n",
    "\n",
    "a = [[0.005, 0.14], [0.9, 0.0], [0.09, 0.27]]\n",
    "\n",
    "# custo\n",
    "c = [ 90, 180,  25]\n",
    "\n",
    "# composições mínimas e máximas dos componentes\n",
    "\n",
    "   # carbono # silício\n",
    "n = [0.0, 0.19]  # min\n",
    "m = [0.095, 0.2] # max\n",
    "\n",
    "# quantidade desejada da liga\n",
    "Q = 10\n"
   ]
  },
  {
   "cell_type": "code",
   "execution_count": 4,
   "metadata": {},
   "outputs": [
    {
     "name": "stdout",
     "output_type": "stream",
     "text": [
      "\\Problem name: \n",
      "\n",
      "Minimize\n",
      "OBJROW: 90 x_0 + 180 x_1 + 25 x_2\n",
      "Subject To\n",
      "constr(0):  0.00500 x_0 >= -0\n",
      "constr(1):  0.00500 x_0 <= 0.95000\n",
      "constr(2):  0.14000 x_0 >= 1.90000\n",
      "constr(3):  0.14000 x_0 <= 2\n",
      "constr(4):  0.90000 x_1 >= -0\n",
      "constr(5):  0.90000 x_1 <= 0.95000\n",
      "constr(6):  >= 1.90000\n",
      "constr(7):  <= 2\n",
      "constr(8):  0.09000 x_2 >= -0\n",
      "constr(9):  0.09000 x_2 <= 0.95000\n",
      "constr(10):  0.27000 x_2 >= 1.90000\n",
      "constr(11):  0.27000 x_2 <= 2\n",
      "constr(12):  0.00500 x_0 >= -0\n",
      "constr(13):  0.00500 x_0 <= 0.95000\n",
      "constr(14):  0.14000 x_0 >= 1.90000\n",
      "constr(15):  0.14000 x_0 <= 2\n",
      "constr(16):  0.90000 x_1 >= -0\n",
      "constr(17):  0.90000 x_1 <= 0.95000\n",
      "constr(18):  >= 1.90000\n",
      "constr(19):  <= 2\n",
      "constr(20):  0.09000 x_2 >= -0\n",
      "constr(21):  0.09000 x_2 <= 0.95000\n",
      "constr(22):  0.27000 x_2 >= 1.90000\n",
      "constr(23):  0.27000 x_2 <= 2\n",
      "constr(24):  x_0 + x_1 + x_2 = 10\n",
      "Bounds\n",
      "End\n",
      "\n"
     ]
    }
   ],
   "source": [
    " # implementa modelo\n",
    "\n",
    "model = Model(sense=MINIMIZE,solver_name=CBC)\n",
    "\n",
    "# Criação da variável\n",
    "x = [model.add_var(var_type=CONTINUOUS, name=f\"x_{i}\", lb=0.0) for i in range(3)]\n",
    "\n",
    "# Função objetivo\n",
    "\n",
    "model.objective = xsum(c[i]*x[i] for i in range(3))\n",
    "\n",
    "#restrições:\n",
    "\n",
    "\"\"\" \n",
    "\n",
    "#restrições:\n",
    "\n",
    "model += 0.005*x[0] + 0.9*x[1] + 0.09*x[2] >= 0.0*Q\n",
    "model += 0.005*x[0] + 0.9*x[1] + 0.09*x[2] <= 0.095*Q\n",
    "\n",
    "model += 0.14*x[0] + 0.27*x[2] >= 0.19*Q\n",
    "model += 0.14*x[0] + 0.27*x[2] <= 0.2*Q\n",
    "\n",
    "model += x[0] + x[1] + x[2] == 10\n",
    "\n",
    "\n",
    "\n",
    "\"\"\"\n",
    "for i in range(2):\n",
    "  for j in range(3):\n",
    "   for k in range(2):\n",
    "    model += a[j][k]*x[j] >= n[k]*Q\n",
    "    model += a[j][k]*x[j] <= m[k]*Q\n",
    "\n",
    "# model += x[0] + x[1] + x[2] == 10 --> Fazer iterativamente\n",
    "\n",
    "model += xsum(x[i] for i in range(3)) == Q\n",
    "\n",
    "\n",
    "model.write(\"model.lp\") # salva modelo em arquivo\n",
    "with open(\"model.lp\") as f: # lê e exibe conteúdo do arquivo\n",
    "  print(f.read())"
   ]
  },
  {
   "cell_type": "code",
   "execution_count": 7,
   "metadata": {},
   "outputs": [
    {
     "name": "stdout",
     "output_type": "stream",
     "text": [
      "+ 90.0x_0 + 180.0x_1 + 25.0x_2 \n",
      "<mip.model.Model object at 0x00000129EE75B940>\n"
     ]
    }
   ],
   "source": []
  }
 ],
 "metadata": {
  "kernelspec": {
   "display_name": "Python 3",
   "language": "python",
   "name": "python3"
  },
  "language_info": {
   "codemirror_mode": {
    "name": "ipython",
    "version": 3
   },
   "file_extension": ".py",
   "mimetype": "text/x-python",
   "name": "python",
   "nbconvert_exporter": "python",
   "pygments_lexer": "ipython3",
   "version": "3.9.7 (tags/v3.9.7:1016ef3, Aug 30 2021, 20:19:38) [MSC v.1929 64 bit (AMD64)]"
  },
  "orig_nbformat": 4,
  "vscode": {
   "interpreter": {
    "hash": "c7eff589202d1b081309a21c1fcab32e7bd6b92ee77a4b4c9e08aff7652052eb"
   }
  }
 },
 "nbformat": 4,
 "nbformat_minor": 2
}
